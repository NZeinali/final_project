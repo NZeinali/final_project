{
 "cells": [
  {
   "cell_type": "code",
   "execution_count": 1,
   "metadata": {},
   "outputs": [],
   "source": [
    "from flask import Flask, jsonify, render_template\n",
    "import numpy as np\n",
    "import datetime as dt\n",
    "from sqlalchemy.ext.automap import automap_base\n",
    "from sqlalchemy.orm import Session\n",
    "from sqlalchemy import create_engine, func\n",
    "from config import password\n",
    "import pandas as pd"
   ]
  },
  {
   "cell_type": "code",
   "execution_count": 2,
   "metadata": {},
   "outputs": [],
   "source": [
    "connection_string = f\"postgres:{password}@perth-property-market.cptzycsh4y3w.ap-southeast-2.rds.amazonaws.com:5432/perth-property-market\"\n",
    "\n",
    "# Create the database engine (to the PostgreSQL database)\n",
    "engine = create_engine(f'postgresql://{connection_string}')\n",
    "conn = engine.connect()\n",
    "session = Session(bind=engine)"
   ]
  },
  {
   "cell_type": "code",
   "execution_count": 3,
   "metadata": {},
   "outputs": [],
   "source": [
    "Base = automap_base()\n",
    "\n",
    "Base.prepare(engine, reflect=True)\n",
    "\n",
    "market_data = Base.classes.perth_market"
   ]
  },
  {
   "cell_type": "code",
   "execution_count": 4,
   "metadata": {},
   "outputs": [],
   "source": [
    "properties = session.query(\n",
    "    market_data.price, market_data.bedrooms, market_data.bathrooms, market_data.land_area,\n",
    "    market_data.floor_area, market_data.build_year, market_data.cbd_dist, market_data.year_sold).all()"
   ]
  },
  {
   "cell_type": "code",
   "execution_count": 5,
   "metadata": {},
   "outputs": [],
   "source": [
    "session.close()\n"
   ]
  },
  {
   "cell_type": "code",
   "execution_count": 6,
   "metadata": {},
   "outputs": [
    {
     "data": {
      "text/html": [
       "<div>\n",
       "<style scoped>\n",
       "    .dataframe tbody tr th:only-of-type {\n",
       "        vertical-align: middle;\n",
       "    }\n",
       "\n",
       "    .dataframe tbody tr th {\n",
       "        vertical-align: top;\n",
       "    }\n",
       "\n",
       "    .dataframe thead th {\n",
       "        text-align: right;\n",
       "    }\n",
       "</style>\n",
       "<table border=\"1\" class=\"dataframe\">\n",
       "  <thead>\n",
       "    <tr style=\"text-align: right;\">\n",
       "      <th></th>\n",
       "      <th>Price</th>\n",
       "      <th>Bedrooms</th>\n",
       "      <th>Bathrooms</th>\n",
       "      <th>Land_Area</th>\n",
       "      <th>Floor_Area</th>\n",
       "      <th>Build_Year</th>\n",
       "      <th>CBD_Dist</th>\n",
       "      <th>Year_Sold</th>\n",
       "    </tr>\n",
       "  </thead>\n",
       "  <tbody>\n",
       "    <tr>\n",
       "      <th>0</th>\n",
       "      <td>565000</td>\n",
       "      <td>4</td>\n",
       "      <td>2</td>\n",
       "      <td>600</td>\n",
       "      <td>160</td>\n",
       "      <td>2003</td>\n",
       "      <td>18300</td>\n",
       "      <td>2018</td>\n",
       "    </tr>\n",
       "    <tr>\n",
       "      <th>1</th>\n",
       "      <td>365000</td>\n",
       "      <td>3</td>\n",
       "      <td>2</td>\n",
       "      <td>351</td>\n",
       "      <td>139</td>\n",
       "      <td>2013</td>\n",
       "      <td>26900</td>\n",
       "      <td>2019</td>\n",
       "    </tr>\n",
       "  </tbody>\n",
       "</table>\n",
       "</div>"
      ],
      "text/plain": [
       "    Price  Bedrooms  Bathrooms  Land_Area  Floor_Area  Build_Year  CBD_Dist  \\\n",
       "0  565000         4          2        600         160        2003     18300   \n",
       "1  365000         3          2        351         139        2013     26900   \n",
       "\n",
       "   Year_Sold  \n",
       "0       2018  \n",
       "1       2019  "
      ]
     },
     "execution_count": 6,
     "metadata": {},
     "output_type": "execute_result"
    }
   ],
   "source": [
    "property_list = []\n",
    "for row in properties:\n",
    "    property = list(np.ravel(row))\n",
    "    property_list.append(property)\n",
    "    \n",
    "\n",
    "df = pd.DataFrame(property_list, columns=[\"Price\", \"Bedrooms\", \"Bathrooms\", \"Land_Area\", \n",
    "\"Floor_Area\", \"Build_Year\", \"CBD_Dist\", \"Year_Sold\"])\n",
    "\n",
    "df.head(2)"
   ]
  },
  {
   "cell_type": "code",
   "execution_count": 20,
   "metadata": {},
   "outputs": [],
   "source": [
    "df[\"Price\"] = (round(df[\"Price\"]/10000)*10000).astype(\"int\")"
   ]
  },
  {
   "cell_type": "code",
   "execution_count": 21,
   "metadata": {},
   "outputs": [
    {
     "data": {
      "text/plain": [
       "480000     778\n",
       "420000     755\n",
       "440000     706\n",
       "400000     705\n",
       "520000     696\n",
       "          ... \n",
       "1990000      1\n",
       "2330000      1\n",
       "2070000      1\n",
       "2430000      1\n",
       "2210000      1\n",
       "Name: Price, Length: 230, dtype: int64"
      ]
     },
     "execution_count": 21,
     "metadata": {},
     "output_type": "execute_result"
    }
   ],
   "source": [
    "df[\"Price\"].value_counts()"
   ]
  },
  {
   "cell_type": "markdown",
   "metadata": {},
   "source": [
    "# Linear Regression"
   ]
  },
  {
   "cell_type": "code",
   "execution_count": 22,
   "metadata": {},
   "outputs": [
    {
     "data": {
      "text/plain": [
       "LinearRegression()"
      ]
     },
     "execution_count": 22,
     "metadata": {},
     "output_type": "execute_result"
    }
   ],
   "source": [
    "from sklearn.linear_model import LinearRegression\n",
    "model = LinearRegression()\n",
    "model"
   ]
  },
  {
   "cell_type": "code",
   "execution_count": 23,
   "metadata": {},
   "outputs": [
    {
     "name": "stdout",
     "output_type": "stream",
     "text": [
      "(25683, 7) (25683, 1)\n"
     ]
    }
   ],
   "source": [
    "X = df.drop([\"Price\"], axis=1)\n",
    "y = df[\"Price\"].values.reshape(-1, 1)\n",
    "print(X.shape, y.shape)"
   ]
  },
  {
   "cell_type": "code",
   "execution_count": 24,
   "metadata": {},
   "outputs": [],
   "source": [
    "from sklearn.model_selection import train_test_split\n",
    "\n",
    "X_train, X_test, y_train, y_test = train_test_split(X, y)"
   ]
  },
  {
   "cell_type": "code",
   "execution_count": 25,
   "metadata": {},
   "outputs": [],
   "source": [
    "from sklearn.preprocessing import StandardScaler\n",
    "\n",
    "# Create a StandardScater model and fit it to the training data\n",
    "\n",
    "X_scaler = StandardScaler().fit(X_train)\n",
    "y_scaler = StandardScaler().fit(y_train)\n"
   ]
  },
  {
   "cell_type": "code",
   "execution_count": 26,
   "metadata": {},
   "outputs": [],
   "source": [
    "# Transform the training and testing data using the X_scaler and y_scaler models\n",
    "\n",
    "X_train_scaled = X_scaler.transform(X_train)\n",
    "X_test_scaled = X_scaler.transform(X_test)\n",
    "y_train_scaled = y_scaler.transform(y_train)\n",
    "y_test_scaled = y_scaler.transform(y_test)\n"
   ]
  },
  {
   "cell_type": "code",
   "execution_count": 27,
   "metadata": {},
   "outputs": [
    {
     "data": {
      "text/plain": [
       "LinearRegression()"
      ]
     },
     "execution_count": 27,
     "metadata": {},
     "output_type": "execute_result"
    }
   ],
   "source": [
    "model.fit(X_train_scaled, y_train_scaled)"
   ]
  },
  {
   "cell_type": "code",
   "execution_count": 28,
   "metadata": {},
   "outputs": [
    {
     "data": {
      "text/plain": [
       "array([[-0.25324337],\n",
       "       [ 0.89312537],\n",
       "       [ 0.79065645],\n",
       "       ...,\n",
       "       [ 0.61728203],\n",
       "       [-0.45948126],\n",
       "       [-0.3777352 ]])"
      ]
     },
     "execution_count": 28,
     "metadata": {},
     "output_type": "execute_result"
    }
   ],
   "source": [
    "prediction = model.predict(X_test_scaled)\n",
    "prediction"
   ]
  },
  {
   "cell_type": "markdown",
   "metadata": {},
   "source": [
    "### Inversing the transformation"
   ]
  },
  {
   "cell_type": "code",
   "execution_count": 29,
   "metadata": {},
   "outputs": [
    {
     "data": {
      "text/plain": [
       "array([[547682.93379678],\n",
       "       [953264.4782978 ],\n",
       "       [917011.30669132],\n",
       "       ...,\n",
       "       [855671.99725694],\n",
       "       [474716.63704416],\n",
       "       [503638.12868125]])"
      ]
     },
     "execution_count": 29,
     "metadata": {},
     "output_type": "execute_result"
    }
   ],
   "source": [
    "y_scaler.inverse_transform(prediction)"
   ]
  },
  {
   "cell_type": "code",
   "execution_count": 30,
   "metadata": {},
   "outputs": [
    {
     "name": "stdout",
     "output_type": "stream",
     "text": [
      "Training Data Score: 0.5656473896393996\n",
      "Testing Data Score: 0.5615083740428672\n"
     ]
    }
   ],
   "source": [
    "print(f\"Training Data Score: {model.score(X_train_scaled, y_train_scaled)}\")\n",
    "print(f\"Testing Data Score: {model.score(X_test_scaled, y_test_scaled)}\")"
   ]
  },
  {
   "cell_type": "markdown",
   "metadata": {},
   "source": [
    "# Lasso"
   ]
  },
  {
   "cell_type": "code",
   "execution_count": 16,
   "metadata": {},
   "outputs": [
    {
     "name": "stdout",
     "output_type": "stream",
     "text": [
      "Training Data Score: 0.5638931434944011\n",
      "Testing Data Score: 0.5632725046504143\n"
     ]
    }
   ],
   "source": [
    "# LASSO model\n",
    "from sklearn.linear_model import Lasso\n",
    "\n",
    "lasso = Lasso(alpha=0.01).fit(X_train_scaled, y_train_scaled)\n",
    "\n",
    "print(f\"Training Data Score: {lasso.score(X_train_scaled, y_train_scaled)}\")\n",
    "print(f\"Testing Data Score: {lasso.score(X_test_scaled, y_test_scaled)}\")"
   ]
  },
  {
   "cell_type": "markdown",
   "metadata": {},
   "source": [
    "# Ridge"
   ]
  },
  {
   "cell_type": "code",
   "execution_count": 34,
   "metadata": {},
   "outputs": [
    {
     "name": "stdout",
     "output_type": "stream",
     "text": [
      "Training Data Score: 0.5650046098492716\n",
      "Testing Data Score: 0.5638247390924325\n"
     ]
    }
   ],
   "source": [
    "# Ridge model\n",
    "from sklearn.linear_model import Ridge\n",
    "\n",
    "### BEGIN SOLUTION\n",
    "ridge = Ridge(alpha=.01).fit(X_train_scaled, y_train_scaled)\n",
    "\n",
    "print(f\"Training Data Score: {ridge.score(X_train_scaled, y_train_scaled)}\")\n",
    "print(f\"Testing Data Score: {ridge.score(X_test_scaled, y_test_scaled)}\")"
   ]
  },
  {
   "cell_type": "markdown",
   "metadata": {},
   "source": [
    "## Grid Search"
   ]
  },
  {
   "cell_type": "code",
   "execution_count": 35,
   "metadata": {},
   "outputs": [],
   "source": [
    "# Create the GridSearch estimator along with a parameter object containing the values to adjust\n",
    "from sklearn.model_selection import GridSearchCV\n",
    "param_grid = {'alpha': [0.01, 0.1, 1]}\n",
    "grid = GridSearchCV(ridge, param_grid, verbose=3)"
   ]
  },
  {
   "cell_type": "code",
   "execution_count": 36,
   "metadata": {},
   "outputs": [
    {
     "name": "stdout",
     "output_type": "stream",
     "text": [
      "Fitting 5 folds for each of 3 candidates, totalling 15 fits\n",
      "[CV 1/5] END ........................alpha=0.01;, score=0.563 total time=   0.0s\n",
      "[CV 2/5] END ........................alpha=0.01;, score=0.562 total time=   0.0s\n",
      "[CV 3/5] END ........................alpha=0.01;, score=0.579 total time=   0.0s\n",
      "[CV 4/5] END ........................alpha=0.01;, score=0.553 total time=   0.0s\n",
      "[CV 5/5] END ........................alpha=0.01;, score=0.563 total time=   0.0s\n",
      "[CV 1/5] END .........................alpha=0.1;, score=0.563 total time=   0.0s\n",
      "[CV 2/5] END .........................alpha=0.1;, score=0.562 total time=   0.0s\n",
      "[CV 3/5] END .........................alpha=0.1;, score=0.579 total time=   0.0s\n",
      "[CV 4/5] END .........................alpha=0.1;, score=0.553 total time=   0.0s\n",
      "[CV 5/5] END .........................alpha=0.1;, score=0.563 total time=   0.0s\n",
      "[CV 1/5] END ...........................alpha=1;, score=0.563 total time=   0.0s\n",
      "[CV 2/5] END ...........................alpha=1;, score=0.562 total time=   0.0s\n",
      "[CV 3/5] END ...........................alpha=1;, score=0.579 total time=   0.0s\n",
      "[CV 4/5] END ...........................alpha=1;, score=0.553 total time=   0.0s\n",
      "[CV 5/5] END ...........................alpha=1;, score=0.563 total time=   0.0s\n"
     ]
    },
    {
     "data": {
      "text/plain": [
       "GridSearchCV(estimator=Ridge(alpha=0.01), param_grid={'alpha': [0.01, 0.1, 1]},\n",
       "             verbose=3)"
      ]
     },
     "execution_count": 36,
     "metadata": {},
     "output_type": "execute_result"
    }
   ],
   "source": [
    "# Fit the model using the grid search estimator. \n",
    "# This will take the SVC model and try each combination of parameters\n",
    "grid.fit(X_train_scaled, y_train_scaled)"
   ]
  },
  {
   "cell_type": "code",
   "execution_count": 37,
   "metadata": {},
   "outputs": [
    {
     "name": "stdout",
     "output_type": "stream",
     "text": [
      "{'alpha': 1}\n"
     ]
    }
   ],
   "source": [
    "# List the best parameters for this dataset\n",
    "print(grid.best_params_)"
   ]
  },
  {
   "cell_type": "code",
   "execution_count": 17,
   "metadata": {},
   "outputs": [
    {
     "ename": "NameError",
     "evalue": "name 'grid' is not defined",
     "output_type": "error",
     "traceback": [
      "\u001b[1;31m---------------------------------------------------------------------------\u001b[0m",
      "\u001b[1;31mNameError\u001b[0m                                 Traceback (most recent call last)",
      "\u001b[1;32m<ipython-input-17-1a981a621326>\u001b[0m in \u001b[0;36m<module>\u001b[1;34m\u001b[0m\n\u001b[1;32m----> 1\u001b[1;33m \u001b[0mprint\u001b[0m\u001b[1;33m(\u001b[0m\u001b[1;34m'Train Acc: %.3f'\u001b[0m \u001b[1;33m%\u001b[0m \u001b[0mgrid\u001b[0m\u001b[1;33m.\u001b[0m\u001b[0mscore\u001b[0m\u001b[1;33m(\u001b[0m\u001b[0mX_train_scaled\u001b[0m\u001b[1;33m,\u001b[0m \u001b[0my_train_scaled\u001b[0m\u001b[1;33m)\u001b[0m\u001b[1;33m)\u001b[0m\u001b[1;33m\u001b[0m\u001b[1;33m\u001b[0m\u001b[0m\n\u001b[0m\u001b[0;32m      2\u001b[0m \u001b[0mprint\u001b[0m\u001b[1;33m(\u001b[0m\u001b[1;34m'Test Acc: %.3f'\u001b[0m \u001b[1;33m%\u001b[0m \u001b[0mgrid\u001b[0m\u001b[1;33m.\u001b[0m\u001b[0mscore\u001b[0m\u001b[1;33m(\u001b[0m\u001b[0mX_test_scaled\u001b[0m\u001b[1;33m,\u001b[0m \u001b[0my_test_scaled\u001b[0m\u001b[1;33m)\u001b[0m\u001b[1;33m)\u001b[0m\u001b[1;33m\u001b[0m\u001b[1;33m\u001b[0m\u001b[0m\n",
      "\u001b[1;31mNameError\u001b[0m: name 'grid' is not defined"
     ]
    }
   ],
   "source": [
    "print('Train Acc: %.3f' % grid.score(X_train_scaled, y_train_scaled))\n",
    "print('Test Acc: %.3f' % grid.score(X_test_scaled, y_test_scaled))"
   ]
  },
  {
   "cell_type": "markdown",
   "metadata": {},
   "source": [
    "# Save Model"
   ]
  },
  {
   "cell_type": "code",
   "execution_count": 18,
   "metadata": {},
   "outputs": [
    {
     "data": {
      "text/plain": [
       "['../models/price_model_linear.sav']"
      ]
     },
     "execution_count": 18,
     "metadata": {},
     "output_type": "execute_result"
    }
   ],
   "source": [
    "# save the model to disk\n",
    "\n",
    "# Linear\n",
    "# *****************\n",
    "import joblib\n",
    "filename_linear = '../models/price_model_linear.sav'\n",
    "joblib.dump(model, filename_linear)\n",
    "\n",
    "# # Lasso\n",
    "# # *****************\n",
    "# filename_lasso = '../models/price_model_lasso.sav'\n",
    "# joblib.dump(lasso, filename_lasso)\n",
    "\n",
    "\n",
    "# # Ridge\n",
    "# # *****************\n",
    "# filename = '../models/price_model_ridge.sav'\n",
    "# joblib.dump(grid, filename)"
   ]
  },
  {
   "cell_type": "code",
   "execution_count": 19,
   "metadata": {},
   "outputs": [
    {
     "data": {
      "text/plain": [
       "['../models/price_model_lasso_yscaler.sav']"
      ]
     },
     "execution_count": 19,
     "metadata": {},
     "output_type": "execute_result"
    }
   ],
   "source": [
    "# Save x & y Scalars\n",
    "xscaler_path = '../models/price_model_lasso_xscaler.sav'\n",
    "yscaler_path = '../models/price_model_lasso_yscaler.sav'\n",
    "\n",
    "joblib.dump(X_scaler, xscaler_path)\n",
    "joblib.dump(y_scaler, yscaler_path) "
   ]
  },
  {
   "cell_type": "markdown",
   "metadata": {},
   "source": [
    "# StatsModel"
   ]
  },
  {
   "cell_type": "code",
   "execution_count": 41,
   "metadata": {},
   "outputs": [],
   "source": [
    "import statsmodels.api as sm\n"
   ]
  },
  {
   "cell_type": "code",
   "execution_count": 42,
   "metadata": {},
   "outputs": [
    {
     "name": "stdout",
     "output_type": "stream",
     "text": [
      "                                 OLS Regression Results                                \n",
      "=======================================================================================\n",
      "Dep. Variable:                      y   R-squared (uncentered):                   0.565\n",
      "Model:                            OLS   Adj. R-squared (uncentered):              0.565\n",
      "Method:                 Least Squares   F-statistic:                              3573.\n",
      "Date:                Sun, 21 Nov 2021   Prob (F-statistic):                        0.00\n",
      "Time:                        00:26:59   Log-Likelihood:                         -19315.\n",
      "No. Observations:               19262   AIC:                                  3.864e+04\n",
      "Df Residuals:                   19255   BIC:                                  3.870e+04\n",
      "Df Model:                           7                                                  \n",
      "Covariance Type:            nonrobust                                                  \n",
      "==============================================================================\n",
      "                 coef    std err          t      P>|t|      [0.025      0.975]\n",
      "------------------------------------------------------------------------------\n",
      "x1            -0.0657      0.006    -10.674      0.000      -0.078      -0.054\n",
      "x2             0.2205      0.007     33.537      0.000       0.208       0.233\n",
      "x3            -0.0061      0.005     -1.169      0.243      -0.016       0.004\n",
      "x4             0.5368      0.006     84.964      0.000       0.524       0.549\n",
      "x5            -0.2776      0.006    -49.859      0.000      -0.289      -0.267\n",
      "x6            -0.3134      0.005    -60.676      0.000      -0.324      -0.303\n",
      "x7             0.0200      0.005      4.122      0.000       0.011       0.030\n",
      "==============================================================================\n",
      "Omnibus:                     5960.300   Durbin-Watson:                   2.000\n",
      "Prob(Omnibus):                  0.000   Jarque-Bera (JB):            46555.029\n",
      "Skew:                           1.272   Prob(JB):                         0.00\n",
      "Kurtosis:                      10.179   Cond. No.                         2.49\n",
      "==============================================================================\n",
      "\n",
      "Notes:\n",
      "[1] R² is computed without centering (uncentered) since the model does not contain a constant.\n",
      "[2] Standard Errors assume that the covariance matrix of the errors is correctly specified.\n"
     ]
    }
   ],
   "source": [
    "model_arima = sm.OLS(y_train_scaled, X_train_scaled)\n",
    "results = model_arima.fit()\n",
    "print(results.summary())"
   ]
  }
 ],
 "metadata": {
  "interpreter": {
   "hash": "0b4f2527d7d2df3f966db050fbea417d67b834030558d4d126ba89140d54f62d"
  },
  "kernelspec": {
   "display_name": "Python 3.6.13 64-bit ('pythondata': conda)",
   "language": "python",
   "name": "python3"
  },
  "language_info": {
   "codemirror_mode": {
    "name": "ipython",
    "version": 3
   },
   "file_extension": ".py",
   "mimetype": "text/x-python",
   "name": "python",
   "nbconvert_exporter": "python",
   "pygments_lexer": "ipython3",
   "version": "3.6.13"
  },
  "orig_nbformat": 4
 },
 "nbformat": 4,
 "nbformat_minor": 2
}
